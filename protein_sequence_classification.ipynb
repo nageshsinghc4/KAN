{
  "nbformat": 4,
  "nbformat_minor": 0,
  "metadata": {
    "colab": {
      "provenance": []
    },
    "kernelspec": {
      "name": "python3",
      "display_name": "Python 3"
    },
    "language_info": {
      "name": "python"
    }
  },
  "cells": [
    {
      "cell_type": "markdown",
      "source": [
        "## Protein Sequence Classification using"
      ],
      "metadata": {
        "id": "YcS8oNk6-cxD"
      }
    },
    {
      "cell_type": "markdown",
      "source": [
        "#### This code trains a Kolmogorov-Arnold Network (KAN) on a synthetic protein sequence classification task. It involves one-hot encoding protein sequences, generating a dataset, defining and training the KAN model, and evaluating its performance. The KAN model uses symbolic regression to learn interpretable models of the input data.\n",
        "\n"
      ],
      "metadata": {
        "id": "f2PNQNSL-Yb8"
      }
    },
    {
      "cell_type": "code",
      "source": [
        "!pip install pykan"
      ],
      "metadata": {
        "id": "Kuri1JVF7NZk"
      },
      "execution_count": null,
      "outputs": []
    },
    {
      "cell_type": "markdown",
      "source": [
        "### Importing Necessary Libraries and Setting Hyperparameters"
      ],
      "metadata": {
        "id": "gjvRgZd59nVr"
      }
    },
    {
      "cell_type": "code",
      "execution_count": 6,
      "metadata": {
        "id": "NyRrOqxpZ_s0"
      },
      "outputs": [],
      "source": [
        "from kan import *\n",
        "import torch\n",
        "import random\n",
        "import numpy as np"
      ]
    },
    {
      "cell_type": "code",
      "source": [
        "# Hyperparameters\n",
        "PROTEIN_WINDOW_SIZE = 5\n",
        "\n",
        "# define the universe of possible input amino acids, ie. vocab list\n",
        "aa_list = 'ARNDCQEGHILKMFPSTWYVX'"
      ],
      "metadata": {
        "id": "8HpYAWri7QsP"
      },
      "execution_count": 7,
      "outputs": []
    },
    {
      "cell_type": "markdown",
      "source": [
        "### One-Hot Encoding Function"
      ],
      "metadata": {
        "id": "1m_96YIq9ui-"
      }
    },
    {
      "cell_type": "markdown",
      "source": [
        "\t•\tAmino Acid List: Defines the list of possible amino acids.\n",
        "\t•\tone_hot_encode Function: Converts a protein sequence into a one-hot encoded numpy array. Each amino acid in the sequence is represented as a vector with one position set to 1 and all others set to 0."
      ],
      "metadata": {
        "id": "9zDuxjJE9yCp"
      }
    },
    {
      "cell_type": "code",
      "source": [
        "def one_hot_encode(protein_sequence):\n",
        "    \"\"\"\n",
        "    One-hot encodes a protein sequence.\n",
        "\n",
        "    Args:\n",
        "        protein_sequence (str): The input protein sequence.\n",
        "\n",
        "    Returns:\n",
        "        numpy.array: The one-hot encoded representation of the protein sequence.\n",
        "    \"\"\"\n",
        "    # Create a dictionary mapping amino acids to indices\n",
        "    aa_to_index = {aa: i for i, aa in enumerate(aa_list)}\n",
        "\n",
        "    # Initialize an array of zeros with shape (sequence_length, alphabet_length)\n",
        "    encoding = np.zeros((len(protein_sequence), len(aa_list)))\n",
        "\n",
        "    # Iterate over the protein sequence and set the corresponding index to 1\n",
        "    for i, aa in enumerate(protein_sequence):\n",
        "        if aa in aa_to_index:\n",
        "            encoding[i, aa_to_index[aa]] = 1\n",
        "        else:\n",
        "            # If the amino acid is not in the alphabet, set the last index to 1 (unknown)\n",
        "            encoding[i, -1] = 1\n",
        "\n",
        "    return encoding"
      ],
      "metadata": {
        "id": "IUhUmKOr7RD9"
      },
      "execution_count": 8,
      "outputs": []
    },
    {
      "cell_type": "markdown",
      "source": [
        "###  Dataset Generation Function"
      ],
      "metadata": {
        "id": "kaGzE9p_92rl"
      }
    },
    {
      "cell_type": "markdown",
      "source": [
        "\t•\tgenerate_sample_protein_dataset Function: Generates a synthetic dataset of protein sequences.\n",
        "\t•\tLabels: Half the sequences have label 1 with ‘K’ (Lysine) in the center, and the other half have label 0 with ‘S’ (Serine) in the center.\n",
        "\t•\tOne-Hot Encoding: Each sequence is one-hot encoded and then flattened.\n",
        "\t•\tSplitting the Data: The data is split into training and testing sets (50% each).\n",
        "\t•\tConversion to Tensors: Converts the lists to PyTorch tensors."
      ],
      "metadata": {
        "id": "AIwseaIY96UE"
      }
    },
    {
      "cell_type": "code",
      "source": [
        "def generate_sample_protein_dataset(num_samples=20, protein_window_size=5):\n",
        "    \"\"\"\n",
        "    Generate a dataset of protein sequences of length 11, keeping Lysine(K) in the center for label 1 and Serine(S) for label 0.\n",
        "\n",
        "    Args:\n",
        "        num_samples (int): Number of samples to generate.\n",
        "        protein_window_size (int): Length of the protein sequence.\n",
        "\n",
        "    Returns:\n",
        "        dict: A dictionary containing train_input, test_input, train_label, and test_label.\n",
        "    \"\"\"\n",
        "\n",
        "    dataset = {'train_input': [], 'test_input': [], 'train_label': [], 'test_label': []}\n",
        "    alphabet = 'ARNDCQEGHILKMFPSTWYVX'\n",
        "\n",
        "    # Generate half of the samples with label 1 and half with label 0\n",
        "    label_sequence = [1] * (num_samples // 2) + [0] * (num_samples // 2)\n",
        "    random.shuffle(label_sequence)\n",
        "\n",
        "    for label in label_sequence:\n",
        "        # Generate a protein sequence with 'K' in the middle for label 1 and 'S' for label 0\n",
        "        if label == 1:\n",
        "            center_aa = 'K'\n",
        "        else:\n",
        "            center_aa = 'S'\n",
        "        sequence = ''.join(random.choices(alphabet.replace(center_aa, ''), k=protein_window_size//2)) + center_aa + ''.join(random.choices(alphabet.replace(center_aa, ''), k=protein_window_size//2))\n",
        "        print(sequence, label)\n",
        "        encoded_sequence = one_hot_encode(sequence).flatten()\n",
        "\n",
        "        # Split the dataset into train and test (50% each)\n",
        "        if len(dataset['train_input']) < num_samples // 2:\n",
        "            dataset['train_input'].append(encoded_sequence)\n",
        "            dataset['train_label'].append(label)\n",
        "        else:\n",
        "            dataset['test_input'].append(encoded_sequence)\n",
        "            dataset['test_label'].append(label)\n",
        "\n",
        "    # Convert lists to tensors\n",
        "    dataset['train_input'] = torch.tensor(dataset['train_input'])\n",
        "    dataset['test_input'] = torch.tensor(dataset['test_input'])\n",
        "    dataset['train_label'] = torch.tensor(dataset['train_label']).view(-1, 1)\n",
        "    dataset['test_label'] = torch.tensor(dataset['test_label']).view(-1, 1)\n",
        "\n",
        "    return dataset\n",
        "\n",
        "# Generate dataset with 10 samples\n",
        "dataset = generate_sample_protein_dataset(40)"
      ],
      "metadata": {
        "colab": {
          "base_uri": "https://localhost:8080/"
        },
        "id": "KbWcj2Sz7TfF",
        "outputId": "5004a696-ddc0-4792-f777-c85fa0bd2d2e"
      },
      "execution_count": 9,
      "outputs": [
        {
          "output_type": "stream",
          "name": "stdout",
          "text": [
            "HXKTG 1\n",
            "IMKFS 1\n",
            "VQSDY 0\n",
            "MCKDS 1\n",
            "TXSFP 0\n",
            "GCKMW 1\n",
            "FLKGT 1\n",
            "TNKIM 1\n",
            "AVKFR 1\n",
            "MRSWC 0\n",
            "YQSPX 0\n",
            "XXSGH 0\n",
            "CTSFA 0\n",
            "YGSTY 0\n",
            "PWSWV 0\n",
            "TGKQN 1\n",
            "QCSPW 0\n",
            "WCSHH 0\n",
            "DVSNL 0\n",
            "MGKLN 1\n",
            "DFKGS 1\n",
            "PDKPN 1\n",
            "RDSHG 0\n",
            "PQKXN 1\n",
            "IYKLA 1\n",
            "XVSQG 0\n",
            "LHKTX 1\n",
            "CYKRV 1\n",
            "GKSDA 0\n",
            "DMSRL 0\n",
            "VWSWC 0\n",
            "CESPD 0\n",
            "AWKIC 1\n",
            "QSKRA 1\n",
            "XMSKG 0\n",
            "QYKYT 1\n",
            "EAKRQ 1\n",
            "VRSHD 0\n",
            "RLKAH 1\n",
            "WISGM 0\n"
          ]
        },
        {
          "output_type": "stream",
          "name": "stderr",
          "text": [
            "<ipython-input-9-8ee3e7804172>:39: UserWarning: Creating a tensor from a list of numpy.ndarrays is extremely slow. Please consider converting the list to a single numpy.ndarray with numpy.array() before converting to a tensor. (Triggered internally at ../torch/csrc/utils/tensor_new.cpp:274.)\n",
            "  dataset['train_input'] = torch.tensor(dataset['train_input'])\n"
          ]
        }
      ]
    },
    {
      "cell_type": "code",
      "source": [
        "print(dataset)\n"
      ],
      "metadata": {
        "colab": {
          "base_uri": "https://localhost:8080/"
        },
        "id": "PelTJgtU7WHm",
        "outputId": "f51505bc-e7c7-4629-efe6-25e2a291ef0b"
      },
      "execution_count": 10,
      "outputs": [
        {
          "output_type": "stream",
          "name": "stdout",
          "text": [
            "{'train_input': tensor([[0., 0., 0.,  ..., 0., 0., 0.],\n",
            "        [0., 0., 0.,  ..., 0., 0., 0.],\n",
            "        [0., 0., 0.,  ..., 1., 0., 0.],\n",
            "        ...,\n",
            "        [0., 0., 0.,  ..., 0., 0., 0.],\n",
            "        [0., 0., 0.,  ..., 0., 0., 0.],\n",
            "        [0., 0., 0.,  ..., 0., 0., 0.]], dtype=torch.float64), 'test_input': tensor([[0., 0., 0.,  ..., 0., 0., 0.],\n",
            "        [0., 0., 0.,  ..., 0., 0., 0.],\n",
            "        [0., 1., 0.,  ..., 0., 0., 0.],\n",
            "        ...,\n",
            "        [0., 0., 0.,  ..., 0., 0., 0.],\n",
            "        [0., 1., 0.,  ..., 0., 0., 0.],\n",
            "        [0., 0., 0.,  ..., 0., 0., 0.]], dtype=torch.float64), 'train_label': tensor([[1],\n",
            "        [1],\n",
            "        [0],\n",
            "        [1],\n",
            "        [0],\n",
            "        [1],\n",
            "        [1],\n",
            "        [1],\n",
            "        [1],\n",
            "        [0],\n",
            "        [0],\n",
            "        [0],\n",
            "        [0],\n",
            "        [0],\n",
            "        [0],\n",
            "        [1],\n",
            "        [0],\n",
            "        [0],\n",
            "        [0],\n",
            "        [1]]), 'test_label': tensor([[1],\n",
            "        [1],\n",
            "        [0],\n",
            "        [1],\n",
            "        [1],\n",
            "        [0],\n",
            "        [1],\n",
            "        [1],\n",
            "        [0],\n",
            "        [0],\n",
            "        [0],\n",
            "        [0],\n",
            "        [1],\n",
            "        [1],\n",
            "        [0],\n",
            "        [1],\n",
            "        [1],\n",
            "        [0],\n",
            "        [1],\n",
            "        [0]])}\n"
          ]
        }
      ]
    },
    {
      "cell_type": "markdown",
      "source": [
        "### Define and Train the KAN Model"
      ],
      "metadata": {
        "id": "T2N-Qt2p-CVm"
      }
    },
    {
      "cell_type": "markdown",
      "source": [
        "\t•\tModel Definition: Initializes a KAN model with an input size of 105 (21 amino acids * 5 positions), 3 hidden neurons, and 2 output neurons (assuming a binary classification task).\n",
        "\t•\tAccuracy Functions: Defines functions to calculate training and testing accuracy.\n",
        "\t•\tTraining the Model: Trains the model using the LBFGS optimizer for 5 steps, evaluating the training and testing accuracy."
      ],
      "metadata": {
        "id": "fYOdjePC-FY_"
      }
    },
    {
      "cell_type": "code",
      "source": [
        "# define model\n",
        "# create a KAN: 105 inputs, 2D output, and 3 hidden neurons. k=2, 3 grid intervals (grid=3).\n",
        "# considering window size: 5, 5 times 21(vocab size), input-> 21 * 5\n",
        "\n",
        "model = KAN(width=[105,3,2], grid=3, k=2)"
      ],
      "metadata": {
        "id": "3KiGV9sW7YqB"
      },
      "execution_count": 11,
      "outputs": []
    },
    {
      "cell_type": "code",
      "source": [
        "def train_acc():\n",
        "    return torch.mean((torch.round(model(dataset['train_input'])[:,0]) == dataset['train_label'][:,0]).float())\n",
        "\n",
        "def test_acc():\n",
        "    return torch.mean((torch.round(model(dataset['test_input'])[:,0]) == dataset['test_label'][:,0]).float())\n",
        "\n",
        "results = model.train(dataset, opt=\"LBFGS\", steps=5, metrics=(train_acc, test_acc));\n",
        "results['train_acc'][-1], results['test_acc'][-1]"
      ],
      "metadata": {
        "colab": {
          "base_uri": "https://localhost:8080/"
        },
        "id": "MxRsoVt57bSj",
        "outputId": "0d185593-c42c-438a-cac1-6e0e75c04194"
      },
      "execution_count": 12,
      "outputs": [
        {
          "output_type": "stream",
          "name": "stderr",
          "text": [
            "train loss: 6.13e-04 | test loss: 2.00e-01 | reg: 6.29e+01 : 100%|████| 5/5 [00:19<00:00,  3.96s/it]\n"
          ]
        },
        {
          "output_type": "execute_result",
          "data": {
            "text/plain": [
              "(1.0, 1.0)"
            ]
          },
          "metadata": {},
          "execution_count": 12
        }
      ]
    },
    {
      "cell_type": "markdown",
      "source": [
        "###  Auto Symbolic and Plotting"
      ],
      "metadata": {
        "id": "GTHdv_rO-JOg"
      }
    },
    {
      "cell_type": "markdown",
      "source": [
        "\t•\tAuto Symbolic: Automatically generates symbolic representations of the learned functions using a library of functions (e.g., ‘x’, ‘x^2’).\n",
        "\t•\tExtract Formulas: Extracts the symbolic formulas learned by the model.\n",
        "\t•\tPlot: Plots the structure of the trained KAN model."
      ],
      "metadata": {
        "id": "KhWjAF3r-Mmc"
      }
    },
    {
      "cell_type": "code",
      "source": [
        "lib = ['x','x^2']\n",
        "\n",
        "model.auto_symbolic(lib=lib)"
      ],
      "metadata": {
        "colab": {
          "base_uri": "https://localhost:8080/"
        },
        "id": "otNaBk7z7daw",
        "outputId": "09b07955-d9b0-469d-e6ba-ee209a85a698"
      },
      "execution_count": 13,
      "outputs": [
        {
          "output_type": "stream",
          "name": "stdout",
          "text": [
            "fixing (0,0,0) with x^2, r2=0.9999999586276108\n",
            "fixing (0,0,1) with x^2, r2=0.9999642971237532\n",
            "fixing (0,0,2) with x^2, r2=0.9999999536611011\n",
            "fixing (0,1,0) with x^2, r2=0.9999999873859933\n",
            "fixing (0,1,1) with x^2, r2=0.9999998556717402\n",
            "fixing (0,1,2) with x^2, r2=0.9999999725741908\n",
            "fixing (0,2,0) with x^2, r2=0.0\n",
            "fixing (0,2,1) with x^2, r2=0.0\n",
            "fixing (0,2,2) with x^2, r2=0.0\n",
            "fixing (0,3,0) with x^2, r2=0.9999999753333724\n",
            "fixing (0,3,1) with x^2, r2=0.9999997000830531\n",
            "fixing (0,3,2) with x^2, r2=0.999999581150711\n",
            "fixing (0,4,0) with x^2, r2=0.9999999754602209\n",
            "fixing (0,4,1) with x^2, r2=0.9999999660195374\n",
            "fixing (0,4,2) with x^2, r2=0.9999999721231339\n",
            "fixing (0,5,0) with x^2, r2=0.9999999612818797\n",
            "fixing (0,5,1) with x^2, r2=0.9999999434323321\n",
            "fixing (0,5,2) with x^2, r2=0.9999999927829158\n",
            "fixing (0,6,0) with x^2, r2=0.9999993216129014\n",
            "fixing (0,6,1) with x^2, r2=0.9999999336156835\n",
            "fixing (0,6,2) with x^2, r2=0.9999999255809148\n",
            "fixing (0,7,0) with x^2, r2=0.9999999840286354\n",
            "fixing (0,7,1) with x^2, r2=0.9999932245654402\n",
            "fixing (0,7,2) with x^2, r2=0.9999999720583097\n",
            "fixing (0,8,0) with x^2, r2=0.0\n",
            "fixing (0,8,1) with x^2, r2=0.0\n",
            "fixing (0,8,2) with x^2, r2=0.0\n",
            "fixing (0,9,0) with x^2, r2=0.9999999499408014\n",
            "fixing (0,9,1) with x^2, r2=0.9997116436906397\n",
            "fixing (0,9,2) with x^2, r2=0.999999920706851\n",
            "fixing (0,10,0) with x^2, r2=0.999999589670063\n",
            "fixing (0,10,1) with x^2, r2=0.999961360400565\n",
            "fixing (0,10,2) with x^2, r2=0.9999987207321349\n",
            "fixing (0,11,0) with x^2, r2=0.0\n",
            "fixing (0,11,1) with x^2, r2=0.0\n",
            "fixing (0,11,2) with x^2, r2=0.0\n",
            "fixing (0,12,0) with x^2, r2=0.0\n",
            "fixing (0,12,1) with x^2, r2=0.0\n",
            "fixing (0,12,2) with x^2, r2=0.0\n",
            "fixing (0,13,0) with x^2, r2=0.0\n",
            "fixing (0,13,1) with x^2, r2=0.0\n",
            "fixing (0,13,2) with x^2, r2=0.0\n",
            "fixing (0,14,0) with x^2, r2=0.9999999743134004\n",
            "fixing (0,14,1) with x^2, r2=0.9999998591824628\n",
            "fixing (0,14,2) with x^2, r2=0.9999999830249802\n",
            "fixing (0,15,0) with x^2, r2=0.0\n",
            "fixing (0,15,1) with x^2, r2=0.0\n",
            "fixing (0,15,2) with x^2, r2=0.0\n",
            "fixing (0,16,0) with x^2, r2=0.0\n",
            "fixing (0,16,1) with x^2, r2=0.0\n",
            "fixing (0,16,2) with x^2, r2=0.0\n",
            "fixing (0,17,0) with x^2, r2=0.9999999816014298\n",
            "fixing (0,17,1) with x^2, r2=0.9999999785572493\n",
            "fixing (0,17,2) with x^2, r2=0.9999998308215703\n",
            "fixing (0,18,0) with x^2, r2=0.0\n",
            "fixing (0,18,1) with x^2, r2=0.0\n",
            "fixing (0,18,2) with x^2, r2=0.0\n",
            "fixing (0,19,0) with x^2, r2=0.9999999730967575\n",
            "fixing (0,19,1) with x^2, r2=0.9999971224316336\n",
            "fixing (0,19,2) with x^2, r2=0.9999999704872635\n",
            "fixing (0,20,0) with x^2, r2=0.9999998164068283\n",
            "fixing (0,20,1) with x^2, r2=0.9999999834951526\n",
            "fixing (0,20,2) with x^2, r2=0.9999999649707433\n",
            "fixing (0,21,0) with x^2, r2=0.9999999754127309\n",
            "fixing (0,21,1) with x^2, r2=0.999999931774469\n",
            "fixing (0,21,2) with x^2, r2=0.9999999708429788\n",
            "fixing (0,22,0) with x^2, r2=0.9999992099108855\n",
            "fixing (0,22,1) with x^2, r2=0.9999999616587657\n",
            "fixing (0,22,2) with x^2, r2=0.9999949221996237\n",
            "fixing (0,23,0) with x^2, r2=0.0\n",
            "fixing (0,23,1) with x^2, r2=0.0\n",
            "fixing (0,23,2) with x^2, r2=0.0\n",
            "fixing (0,24,0) with x^2, r2=0.9999999732807291\n",
            "fixing (0,24,1) with x^2, r2=0.999999910571781\n",
            "fixing (0,24,2) with x^2, r2=0.9999999552774066\n",
            "fixing (0,25,0) with x^2, r2=0.0\n",
            "fixing (0,25,1) with x^2, r2=0.0\n",
            "fixing (0,25,2) with x^2, r2=0.0\n",
            "fixing (0,26,0) with x^2, r2=0.9999993046741921\n",
            "fixing (0,26,1) with x^2, r2=0.9999996698179084\n",
            "fixing (0,26,2) with x^2, r2=0.9999999275518962\n",
            "fixing (0,27,0) with x^2, r2=0.9999986705114334\n",
            "fixing (0,27,1) with x^2, r2=0.9999998430485522\n",
            "fixing (0,27,2) with x^2, r2=0.9999999011406626\n",
            "fixing (0,28,0) with x^2, r2=0.0\n",
            "fixing (0,28,1) with x^2, r2=0.0\n",
            "fixing (0,28,2) with x^2, r2=0.0\n",
            "fixing (0,29,0) with x^2, r2=0.9999999778096919\n",
            "fixing (0,29,1) with x^2, r2=0.9999999847930107\n",
            "fixing (0,29,2) with x^2, r2=0.9999999829272425\n",
            "fixing (0,30,0) with x^2, r2=0.9999999389123244\n",
            "fixing (0,30,1) with x^2, r2=0.9999999494835216\n",
            "fixing (0,30,2) with x^2, r2=0.9999999761300931\n",
            "fixing (0,31,0) with x^2, r2=0.9999996752381197\n",
            "fixing (0,31,1) with x^2, r2=0.9999734509727887\n",
            "fixing (0,31,2) with x^2, r2=0.999999744732937\n",
            "fixing (0,32,0) with x^2, r2=0.9999998339594911\n",
            "fixing (0,32,1) with x^2, r2=0.9999953908710256\n",
            "fixing (0,32,2) with x^2, r2=0.8755684418343248\n",
            "fixing (0,33,0) with x^2, r2=0.999998825583194\n",
            "fixing (0,33,1) with x^2, r2=0.9999999459833665\n",
            "fixing (0,33,2) with x^2, r2=0.9999999815959302\n",
            "fixing (0,34,0) with x^2, r2=0.9999997370918448\n",
            "fixing (0,34,1) with x^2, r2=0.9999999630566788\n",
            "fixing (0,34,2) with x^2, r2=0.9999999690828252\n",
            "fixing (0,35,0) with x^2, r2=0.0\n",
            "fixing (0,35,1) with x^2, r2=0.0\n",
            "fixing (0,35,2) with x^2, r2=0.0\n",
            "fixing (0,36,0) with x^2, r2=0.9999997329068802\n",
            "fixing (0,36,1) with x^2, r2=0.9999999465668115\n",
            "fixing (0,36,2) with x^2, r2=0.9999997708619919\n",
            "fixing (0,37,0) with x^2, r2=0.0\n",
            "fixing (0,37,1) with x^2, r2=0.0\n",
            "fixing (0,37,2) with x^2, r2=0.0\n",
            "fixing (0,38,0) with x^2, r2=0.9999998005480434\n",
            "fixing (0,38,1) with x^2, r2=0.999986607210646\n",
            "fixing (0,38,2) with x^2, r2=0.9999999694360928\n",
            "fixing (0,39,0) with x^2, r2=0.999999963161491\n",
            "fixing (0,39,1) with x^2, r2=0.9999998855415025\n",
            "fixing (0,39,2) with x^2, r2=0.9999999913790732\n",
            "fixing (0,40,0) with x^2, r2=0.9999995452650281\n",
            "fixing (0,40,1) with x^2, r2=0.9999863911179042\n",
            "fixing (0,40,2) with x^2, r2=0.9997737239065516\n",
            "fixing (0,41,0) with x^2, r2=0.0\n",
            "fixing (0,41,1) with x^2, r2=0.0\n",
            "fixing (0,41,2) with x^2, r2=0.0\n",
            "fixing (0,42,0) with x^2, r2=0.0\n",
            "fixing (0,42,1) with x^2, r2=0.0\n",
            "fixing (0,42,2) with x^2, r2=0.0\n",
            "fixing (0,43,0) with x^2, r2=0.0\n",
            "fixing (0,43,1) with x^2, r2=0.0\n",
            "fixing (0,43,2) with x^2, r2=0.0\n",
            "fixing (0,44,0) with x^2, r2=0.0\n",
            "fixing (0,44,1) with x^2, r2=0.0\n",
            "fixing (0,44,2) with x^2, r2=0.0\n",
            "fixing (0,45,0) with x^2, r2=0.0\n",
            "fixing (0,45,1) with x^2, r2=0.0\n",
            "fixing (0,45,2) with x^2, r2=0.0\n",
            "fixing (0,46,0) with x^2, r2=0.0\n",
            "fixing (0,46,1) with x^2, r2=0.0\n",
            "fixing (0,46,2) with x^2, r2=0.0\n",
            "fixing (0,47,0) with x^2, r2=0.0\n",
            "fixing (0,47,1) with x^2, r2=0.0\n",
            "fixing (0,47,2) with x^2, r2=0.0\n",
            "fixing (0,48,0) with x^2, r2=0.0\n",
            "fixing (0,48,1) with x^2, r2=0.0\n",
            "fixing (0,48,2) with x^2, r2=0.0\n",
            "fixing (0,49,0) with x^2, r2=0.0\n",
            "fixing (0,49,1) with x^2, r2=0.0\n",
            "fixing (0,49,2) with x^2, r2=0.0\n",
            "fixing (0,50,0) with x^2, r2=0.0\n",
            "fixing (0,50,1) with x^2, r2=0.0\n",
            "fixing (0,50,2) with x^2, r2=0.0\n",
            "fixing (0,51,0) with x^2, r2=0.0\n",
            "fixing (0,51,1) with x^2, r2=0.0\n",
            "fixing (0,51,2) with x^2, r2=0.0\n",
            "fixing (0,52,0) with x^2, r2=0.0\n",
            "fixing (0,52,1) with x^2, r2=0.0\n",
            "fixing (0,52,2) with x^2, r2=0.0\n",
            "fixing (0,53,0) with x^2, r2=0.9999999988400684\n",
            "fixing (0,53,1) with x^2, r2=0.9999999993644233\n",
            "fixing (0,53,2) with x^2, r2=0.9999999998394238\n",
            "fixing (0,54,0) with x^2, r2=0.0\n",
            "fixing (0,54,1) with x^2, r2=0.0\n",
            "fixing (0,54,2) with x^2, r2=0.0\n",
            "fixing (0,55,0) with x^2, r2=0.0\n",
            "fixing (0,55,1) with x^2, r2=0.0\n",
            "fixing (0,55,2) with x^2, r2=0.0\n",
            "fixing (0,56,0) with x^2, r2=0.0\n",
            "fixing (0,56,1) with x^2, r2=0.0\n",
            "fixing (0,56,2) with x^2, r2=0.0\n",
            "fixing (0,57,0) with x^2, r2=0.9999999980585361\n",
            "fixing (0,57,1) with x^2, r2=0.9999999985815774\n",
            "fixing (0,57,2) with x^2, r2=0.9999999998910755\n",
            "fixing (0,58,0) with x^2, r2=0.0\n",
            "fixing (0,58,1) with x^2, r2=0.0\n",
            "fixing (0,58,2) with x^2, r2=0.0\n",
            "fixing (0,59,0) with x^2, r2=0.0\n",
            "fixing (0,59,1) with x^2, r2=0.0\n",
            "fixing (0,59,2) with x^2, r2=0.0\n",
            "fixing (0,60,0) with x^2, r2=0.0\n",
            "fixing (0,60,1) with x^2, r2=0.0\n",
            "fixing (0,60,2) with x^2, r2=0.0\n",
            "fixing (0,61,0) with x^2, r2=0.0\n",
            "fixing (0,61,1) with x^2, r2=0.0\n",
            "fixing (0,61,2) with x^2, r2=0.0\n",
            "fixing (0,62,0) with x^2, r2=0.0\n",
            "fixing (0,62,1) with x^2, r2=0.0\n",
            "fixing (0,62,2) with x^2, r2=0.0\n",
            "fixing (0,63,0) with x^2, r2=0.9999997925446554\n",
            "fixing (0,63,1) with x^2, r2=0.9999993985186602\n",
            "fixing (0,63,2) with x^2, r2=0.9999998557213747\n",
            "fixing (0,64,0) with x^2, r2=0.999999982886416\n",
            "fixing (0,64,1) with x^2, r2=0.9999998834827928\n",
            "fixing (0,64,2) with x^2, r2=0.9999999800593732\n",
            "fixing (0,65,0) with x^2, r2=0.0\n",
            "fixing (0,65,1) with x^2, r2=0.0\n",
            "fixing (0,65,2) with x^2, r2=0.0\n",
            "fixing (0,66,0) with x^2, r2=0.9999999757385548\n",
            "fixing (0,66,1) with x^2, r2=0.999999853181369\n",
            "fixing (0,66,2) with x^2, r2=0.9999999541580825\n",
            "fixing (0,67,0) with x^2, r2=0.0\n",
            "fixing (0,67,1) with x^2, r2=0.0\n",
            "fixing (0,67,2) with x^2, r2=0.0\n",
            "fixing (0,68,0) with x^2, r2=0.9999999562367603\n",
            "fixing (0,68,1) with x^2, r2=0.9999999234977812\n",
            "fixing (0,68,2) with x^2, r2=0.999997079112404\n",
            "fixing (0,69,0) with x^2, r2=0.0\n",
            "fixing (0,69,1) with x^2, r2=0.0\n",
            "fixing (0,69,2) with x^2, r2=0.0\n",
            "fixing (0,70,0) with x^2, r2=0.9999998058390139\n",
            "fixing (0,70,1) with x^2, r2=0.999999990076629\n",
            "fixing (0,70,2) with x^2, r2=0.9999999783181853\n",
            "fixing (0,71,0) with x^2, r2=0.999999821357621\n",
            "fixing (0,71,1) with x^2, r2=0.9999997655308409\n",
            "fixing (0,71,2) with x^2, r2=0.9999995798118859\n",
            "fixing (0,72,0) with x^2, r2=0.9999999734349717\n",
            "fixing (0,72,1) with x^2, r2=0.9999986761655735\n",
            "fixing (0,72,2) with x^2, r2=0.9999998039297673\n",
            "fixing (0,73,0) with x^2, r2=0.9999996469911266\n",
            "fixing (0,73,1) with x^2, r2=0.9999999706492854\n",
            "fixing (0,73,2) with x^2, r2=0.9999861965477452\n",
            "fixing (0,74,0) with x^2, r2=0.9999997220470098\n",
            "fixing (0,74,1) with x^2, r2=0.9999995538073494\n",
            "fixing (0,74,2) with x^2, r2=0.9999999620249846\n",
            "fixing (0,75,0) with x^2, r2=0.0\n",
            "fixing (0,75,1) with x^2, r2=0.0\n",
            "fixing (0,75,2) with x^2, r2=0.0\n",
            "fixing (0,76,0) with x^2, r2=0.0\n",
            "fixing (0,76,1) with x^2, r2=0.0\n",
            "fixing (0,76,2) with x^2, r2=0.0\n",
            "fixing (0,77,0) with x^2, r2=0.9999999827321723\n",
            "fixing (0,77,1) with x^2, r2=0.9999999896913431\n",
            "fixing (0,77,2) with x^2, r2=0.9999999923174814\n",
            "fixing (0,78,0) with x^2, r2=0.0\n",
            "fixing (0,78,1) with x^2, r2=0.0\n",
            "fixing (0,78,2) with x^2, r2=0.0\n",
            "fixing (0,79,0) with x^2, r2=0.9999999118609441\n",
            "fixing (0,79,1) with x^2, r2=0.9999999623598844\n",
            "fixing (0,79,2) with x^2, r2=0.9999997959702055\n",
            "fixing (0,80,0) with x^2, r2=0.9999997483508539\n",
            "fixing (0,80,1) with x^2, r2=0.9999999481790696\n",
            "fixing (0,80,2) with x^2, r2=0.9999999147775447\n",
            "fixing (0,81,0) with x^2, r2=0.9999998863023039\n",
            "fixing (0,81,1) with x^2, r2=0.9999999732098547\n",
            "fixing (0,81,2) with x^2, r2=0.9999999116363101\n",
            "fixing (0,82,0) with x^2, r2=0.0\n",
            "fixing (0,82,1) with x^2, r2=0.0\n",
            "fixing (0,82,2) with x^2, r2=0.0\n",
            "fixing (0,83,0) with x^2, r2=0.999911732050327\n",
            "fixing (0,83,1) with x^2, r2=0.999999868653856\n",
            "fixing (0,83,2) with x^2, r2=0.9999999483161239\n",
            "fixing (0,84,0) with x^2, r2=0.9999999850384795\n",
            "fixing (0,84,1) with x^2, r2=0.9999999897020461\n",
            "fixing (0,84,2) with x^2, r2=0.9999998659471998\n",
            "fixing (0,85,0) with x^2, r2=0.0\n",
            "fixing (0,85,1) with x^2, r2=0.0\n",
            "fixing (0,85,2) with x^2, r2=0.0\n",
            "fixing (0,86,0) with x^2, r2=0.9999999915253521\n",
            "fixing (0,86,1) with x^2, r2=0.9999999739973793\n",
            "fixing (0,86,2) with x^2, r2=0.999999757775174\n",
            "fixing (0,87,0) with x^2, r2=0.999999890529482\n",
            "fixing (0,87,1) with x^2, r2=0.999999949614421\n",
            "fixing (0,87,2) with x^2, r2=0.9999999710559562\n",
            "fixing (0,88,0) with x^2, r2=0.9999998501546351\n",
            "fixing (0,88,1) with x^2, r2=0.9999999065255574\n",
            "fixing (0,88,2) with x^2, r2=0.9999999771430093\n",
            "fixing (0,89,0) with x^2, r2=0.9999999893661378\n",
            "fixing (0,89,1) with x^2, r2=0.99999964411003\n",
            "fixing (0,89,2) with x^2, r2=0.9999999842148038\n",
            "fixing (0,90,0) with x^2, r2=0.0\n",
            "fixing (0,90,1) with x^2, r2=0.0\n",
            "fixing (0,90,2) with x^2, r2=0.0\n",
            "fixing (0,91,0) with x^2, r2=0.9999997234765421\n",
            "fixing (0,91,1) with x^2, r2=0.9999999141145902\n",
            "fixing (0,91,2) with x^2, r2=0.9999999964407122\n",
            "fixing (0,92,0) with x^2, r2=0.9999999667920565\n",
            "fixing (0,92,1) with x^2, r2=0.9999997757906829\n",
            "fixing (0,92,2) with x^2, r2=0.9999999380920205\n",
            "fixing (0,93,0) with x^2, r2=0.0\n",
            "fixing (0,93,1) with x^2, r2=0.0\n",
            "fixing (0,93,2) with x^2, r2=0.0\n",
            "fixing (0,94,0) with x^2, r2=0.9999994910254678\n",
            "fixing (0,94,1) with x^2, r2=0.9999998975668885\n",
            "fixing (0,94,2) with x^2, r2=0.9999999442637819\n",
            "fixing (0,95,0) with x^2, r2=0.0\n",
            "fixing (0,95,1) with x^2, r2=0.0\n",
            "fixing (0,95,2) with x^2, r2=0.0\n",
            "fixing (0,96,0) with x^2, r2=0.9999999825409072\n",
            "fixing (0,96,1) with x^2, r2=0.999999931541522\n",
            "fixing (0,96,2) with x^2, r2=0.9999998398797736\n",
            "fixing (0,97,0) with x^2, r2=0.0\n",
            "fixing (0,97,1) with x^2, r2=0.0\n",
            "fixing (0,97,2) with x^2, r2=0.0\n",
            "fixing (0,98,0) with x^2, r2=0.0\n",
            "fixing (0,98,1) with x^2, r2=0.0\n",
            "fixing (0,98,2) with x^2, r2=0.0\n",
            "fixing (0,99,0) with x^2, r2=0.9999999495016828\n",
            "fixing (0,99,1) with x^2, r2=0.9999999559336683\n",
            "fixing (0,99,2) with x^2, r2=0.9999998269452913\n",
            "fixing (0,100,0) with x^2, r2=0.9999999874253751\n",
            "fixing (0,100,1) with x^2, r2=0.9999999266116767\n",
            "fixing (0,100,2) with x^2, r2=0.9999992115660659\n",
            "fixing (0,101,0) with x^2, r2=0.0\n",
            "fixing (0,101,1) with x^2, r2=0.0\n",
            "fixing (0,101,2) with x^2, r2=0.0\n",
            "fixing (0,102,0) with x^2, r2=0.0\n",
            "fixing (0,102,1) with x^2, r2=0.0\n",
            "fixing (0,102,2) with x^2, r2=0.0\n",
            "fixing (0,103,0) with x^2, r2=0.9999972131594478\n",
            "fixing (0,103,1) with x^2, r2=0.9999999402643766\n",
            "fixing (0,103,2) with x^2, r2=0.9999998373809005\n",
            "fixing (0,104,0) with x^2, r2=0.9999960129833193\n",
            "fixing (0,104,1) with x^2, r2=0.9997602609698799\n",
            "fixing (0,104,2) with x^2, r2=0.9999952405371137\n",
            "fixing (1,0,0) with x^2, r2=0.9428108530913388\n",
            "fixing (1,0,1) with x^2, r2=0.9490037626774153\n",
            "fixing (1,1,0) with x^2, r2=0.7147213805990957\n",
            "fixing (1,1,1) with x^2, r2=0.6743406744336072\n",
            "fixing (1,2,0) with x^2, r2=0.9985516774720532\n",
            "fixing (1,2,1) with x^2, r2=0.99733337757071\n"
          ]
        }
      ]
    },
    {
      "cell_type": "code",
      "source": [
        "formula1, formula2 = model.symbolic_formula()[0]\n",
        "formula1"
      ],
      "metadata": {
        "colab": {
          "base_uri": "https://localhost:8080/",
          "height": 159
        },
        "id": "EVIsK7gs7iIY",
        "outputId": "1e596403-406b-4cc3-dafb-0005450e0d3a"
      },
      "execution_count": 14,
      "outputs": [
        {
          "output_type": "execute_result",
          "data": {
            "text/plain": [
              "0.96*(-0.02*(-x_1 - 1)**2 - 0.02*(x_10 + 1)**2 - 0.01*(x_100 + 1)**2 + 0.01*(-x_101 - 1)**2 - 0.01*(-x_104 - 1)**2 + 0.02*(-x_15 - 1)**2 + 0.01*(x_18 + 1)**2 - 0.02*(-x_2 - 1)**2 - 0.01*(-x_20 - 1)**2 + 0.01*(-x_21 - 1)**2 + 0.03*(-x_22 - 1)**2 + 0.01*(x_25 + 1)**2 + 0.02*(-x_27 - 1)**2 - 0.02*(-x_28 - 1)**2 + 0.04*(x_30 + 1)**2 + 0.03*(-x_31 - 1)**2 + 0.01*(x_32 + 1)**2 + 0.02*(x_34 + 1)**2 - 0.03*(-x_35 - 1)**2 - 0.e-2*(-x_37 - 1)**2 + 0.01*(-x_39 - 1)**2 - 0.02*(-x_40 - 1)**2 + 0.01*(-x_5 - 1)**2 - 0.07*(x_54 + 1)**2 + 0.09*(-x_58 - 1)**2 + 0.03*(-x_6 - 1)**2 - 0.01*(-x_64 - 1)**2 - 0.e-2*(-x_65 - 1)**2 + 0.02*(-x_67 - 1)**2 - 0.02*(-x_7 - 1)**2 - 0.02*(x_71 + 1)**2 - 0.01*(x_73 + 1)**2 + 0.02*(-x_75 - 1)**2 + 0.03*(-x_78 - 1)**2 - 0.03*(x_8 + 1)**2 - 0.01*(-x_80 - 1)**2 + 0.02*(x_81 + 1)**2 + 0.02*(-x_82 - 1)**2 + 0.02*(-x_84 - 1)**2 + 0.01*(-x_87 - 1)**2 - 0.01*(-x_88 - 1)**2 + 0.02*(x_89 + 1)**2 + 0.04*(-x_90 - 1)**2 - 0.03*(-x_92 - 1)**2 + 0.02*(-x_93 - 1)**2 + 0.02*(-x_95 - 1)**2 - 0.01*(-x_97 - 1)**2 - 1)**2 + 0.08*(0.04*(-x_1 - 1)**2 + 0.04*(-x_10 - 1)**2 - 0.04*(x_100 + 1)**2 + 0.08*(-x_101 - 1)**2 + 0.01*(x_104 + 1)**2 - 0.01*(-x_11 - 1)**2 - 0.03*(-x_15 - 1)**2 + 0.07*(x_18 + 1)**2 + 0.04*(x_2 + 1)**2 - 0.03*(-x_20 - 1)**2 - 0.01*(-x_21 - 1)**2 + 0.06*(-x_22 - 1)**2 + 0.01*(x_23 + 1)**2 - 0.03*(-x_25 - 1)**2 + 0.01*(x_27 + 1)**2 - 0.e-2*(x_28 + 1)**2 - 0.06*(x_30 + 1)**2 - 0.04*(x_31 + 1)**2 + 0.02*(-x_32 - 1)**2 + 0.02*(x_33 + 1)**2 + 0.02*(-x_35 - 1)**2 - 0.02*(-x_37 - 1)**2 - 0.01*(-x_39 - 1)**2 + 0.03*(-x_4 - 1)**2 - 0.02*(-x_40 - 1)**2 + 0.01*(-x_41 - 1)**2 - 0.03*(-x_5 - 1)**2 - 0.05*(-x_54 - 1)**2 + 0.04*(-x_58 - 1)**2 - 0.02*(-x_6 - 1)**2 + 0.02*(-x_64 - 1)**2 + 0.02*(-x_65 - 1)**2 - 0.06*(-x_67 - 1)**2 + 0.04*(-x_69 - 1)**2 + 0.01*(-x_7 - 1)**2 + 0.01*(-x_71 - 1)**2 - 0.01*(-x_72 - 1)**2 + 0.06*(x_73 + 1)**2 + 0.02*(x_74 + 1)**2 + 0.02*(-x_75 - 1)**2 - 0.04*(-x_78 - 1)**2 + 0.07*(-x_8 - 1)**2 - 0.03*(-x_80 - 1)**2 + 0.02*(-x_81 - 1)**2 - 0.03*(-x_82 - 1)**2 - 0.03*(-x_85 - 1)**2 - 0.05*(x_87 + 1)**2 - 0.01*(-x_88 - 1)**2 + 0.01*(-x_89 - 1)**2 - 0.09*(-x_90 - 1)**2 - 0.e-2*(-x_92 - 1)**2 + 0.05*(-x_93 - 1)**2 + 0.01*(-x_95 - 1)**2 - 0.07*(-x_97 - 1)**2 - 1)**2 - 0.e-2*(-0.01*(-x_1 - 1)**2 - 0.29*(-x_100 - 1)**2 + 0.22*(-x_101 - 1)**2 - 0.25*(x_104 + 1)**2 + 0.01*(-x_11 - 1)**2 + 0.09*(-x_15 - 1)**2 - 0.41*(-x_18 - 1)**2 - 0.08*(x_2 + 1)**2 - 0.02*(-x_20 - 1)**2 - 0.25*(-x_21 - 1)**2 - 0.23*(-x_22 - 1)**2 - 0.31*(-x_23 - 1)**2 + 0.11*(-x_25 - 1)**2 - 0.11*(-x_27 - 1)**2 - 0.15*(-x_28 - 1)**2 - 0.49*(-x_30 - 1)**2 + 0.27*(-x_31 - 1)**2 - 0.01*(-x_32 - 1)**2 - 0.03*(-x_33 - 1)**2 + 0.14*(-x_34 - 1)**2 + 0.31*(-x_35 - 1)**2 + 0.26*(x_37 + 1)**2 + 0.01*(-x_39 - 1)**2 - 0.06*(-x_4 - 1)**2 + 0.07*(x_40 + 1)**2 + 0.02*(-x_41 - 1)**2 + 0.17*(x_5 + 1)**2 - 0.46*(x_54 + 1)**2 + 0.31*(-x_58 - 1)**2 - 0.13*(x_6 + 1)**2 - 0.08*(x_64 + 1)**2 - 0.05*(-x_65 - 1)**2 - 0.16*(x_67 + 1)**2 + 0.22*(-x_69 - 1)**2 + 0.23*(x_7 + 1)**2 + 0.32*(-x_71 - 1)**2 + 0.07*(x_72 + 1)**2 + 0.05*(x_73 + 1)**2 + 0.35*(-x_74 - 1)**2 + 0.09*(-x_75 - 1)**2 - 0.31*(-x_78 - 1)**2 + 0.02*(-x_8 - 1)**2 + 0.31*(-x_80 - 1)**2 + 0.27*(x_81 + 1)**2 - 0.37*(-x_82 - 1)**2 - 0.17*(-x_84 - 1)**2 + 0.22*(x_85 + 1)**2 + 0.2*(-x_87 - 1)**2 + 0.14*(x_88 + 1)**2 - 0.1*(x_89 + 1)**2 - 0.1*(x_90 + 1)**2 - 0.08*(x_92 + 1)**2 - 0.13*(-x_93 - 1)**2 - 0.19*(-x_95 - 1)**2 + 0.23*(-x_97 - 1)**2 + 1)**2 - 0.27"
            ],
            "text/latex": "$\\displaystyle 0.96 \\left(- 0.02 \\left(- x_{1} - 1\\right)^{2} - 0.02 \\left(x_{10} + 1\\right)^{2} - 0.01 \\left(x_{100} + 1\\right)^{2} + 0.01 \\left(- x_{101} - 1\\right)^{2} - 0.01 \\left(- x_{104} - 1\\right)^{2} + 0.02 \\left(- x_{15} - 1\\right)^{2} + 0.01 \\left(x_{18} + 1\\right)^{2} - 0.02 \\left(- x_{2} - 1\\right)^{2} - 0.01 \\left(- x_{20} - 1\\right)^{2} + 0.01 \\left(- x_{21} - 1\\right)^{2} + 0.03 \\left(- x_{22} - 1\\right)^{2} + 0.01 \\left(x_{25} + 1\\right)^{2} + 0.02 \\left(- x_{27} - 1\\right)^{2} - 0.02 \\left(- x_{28} - 1\\right)^{2} + 0.04 \\left(x_{30} + 1\\right)^{2} + 0.03 \\left(- x_{31} - 1\\right)^{2} + 0.01 \\left(x_{32} + 1\\right)^{2} + 0.02 \\left(x_{34} + 1\\right)^{2} - 0.03 \\left(- x_{35} - 1\\right)^{2} - 0.01 \\left(- x_{37} - 1\\right)^{2} + 0.01 \\left(- x_{39} - 1\\right)^{2} - 0.02 \\left(- x_{40} - 1\\right)^{2} + 0.01 \\left(- x_{5} - 1\\right)^{2} - 0.07 \\left(x_{54} + 1\\right)^{2} + 0.09 \\left(- x_{58} - 1\\right)^{2} + 0.03 \\left(- x_{6} - 1\\right)^{2} - 0.01 \\left(- x_{64} - 1\\right)^{2} - 0.01 \\left(- x_{65} - 1\\right)^{2} + 0.02 \\left(- x_{67} - 1\\right)^{2} - 0.02 \\left(- x_{7} - 1\\right)^{2} - 0.02 \\left(x_{71} + 1\\right)^{2} - 0.01 \\left(x_{73} + 1\\right)^{2} + 0.02 \\left(- x_{75} - 1\\right)^{2} + 0.03 \\left(- x_{78} - 1\\right)^{2} - 0.03 \\left(x_{8} + 1\\right)^{2} - 0.01 \\left(- x_{80} - 1\\right)^{2} + 0.02 \\left(x_{81} + 1\\right)^{2} + 0.02 \\left(- x_{82} - 1\\right)^{2} + 0.02 \\left(- x_{84} - 1\\right)^{2} + 0.01 \\left(- x_{87} - 1\\right)^{2} - 0.01 \\left(- x_{88} - 1\\right)^{2} + 0.02 \\left(x_{89} + 1\\right)^{2} + 0.04 \\left(- x_{90} - 1\\right)^{2} - 0.03 \\left(- x_{92} - 1\\right)^{2} + 0.02 \\left(- x_{93} - 1\\right)^{2} + 0.02 \\left(- x_{95} - 1\\right)^{2} - 0.01 \\left(- x_{97} - 1\\right)^{2} - 1\\right)^{2} + 0.08 \\left(0.04 \\left(- x_{1} - 1\\right)^{2} + 0.04 \\left(- x_{10} - 1\\right)^{2} - 0.04 \\left(x_{100} + 1\\right)^{2} + 0.08 \\left(- x_{101} - 1\\right)^{2} + 0.01 \\left(x_{104} + 1\\right)^{2} - 0.01 \\left(- x_{11} - 1\\right)^{2} - 0.03 \\left(- x_{15} - 1\\right)^{2} + 0.07 \\left(x_{18} + 1\\right)^{2} + 0.04 \\left(x_{2} + 1\\right)^{2} - 0.03 \\left(- x_{20} - 1\\right)^{2} - 0.01 \\left(- x_{21} - 1\\right)^{2} + 0.06 \\left(- x_{22} - 1\\right)^{2} + 0.01 \\left(x_{23} + 1\\right)^{2} - 0.03 \\left(- x_{25} - 1\\right)^{2} + 0.01 \\left(x_{27} + 1\\right)^{2} - 0.01 \\left(x_{28} + 1\\right)^{2} - 0.06 \\left(x_{30} + 1\\right)^{2} - 0.04 \\left(x_{31} + 1\\right)^{2} + 0.02 \\left(- x_{32} - 1\\right)^{2} + 0.02 \\left(x_{33} + 1\\right)^{2} + 0.02 \\left(- x_{35} - 1\\right)^{2} - 0.02 \\left(- x_{37} - 1\\right)^{2} - 0.01 \\left(- x_{39} - 1\\right)^{2} + 0.03 \\left(- x_{4} - 1\\right)^{2} - 0.02 \\left(- x_{40} - 1\\right)^{2} + 0.01 \\left(- x_{41} - 1\\right)^{2} - 0.03 \\left(- x_{5} - 1\\right)^{2} - 0.05 \\left(- x_{54} - 1\\right)^{2} + 0.04 \\left(- x_{58} - 1\\right)^{2} - 0.02 \\left(- x_{6} - 1\\right)^{2} + 0.02 \\left(- x_{64} - 1\\right)^{2} + 0.02 \\left(- x_{65} - 1\\right)^{2} - 0.06 \\left(- x_{67} - 1\\right)^{2} + 0.04 \\left(- x_{69} - 1\\right)^{2} + 0.01 \\left(- x_{7} - 1\\right)^{2} + 0.01 \\left(- x_{71} - 1\\right)^{2} - 0.01 \\left(- x_{72} - 1\\right)^{2} + 0.06 \\left(x_{73} + 1\\right)^{2} + 0.02 \\left(x_{74} + 1\\right)^{2} + 0.02 \\left(- x_{75} - 1\\right)^{2} - 0.04 \\left(- x_{78} - 1\\right)^{2} + 0.07 \\left(- x_{8} - 1\\right)^{2} - 0.03 \\left(- x_{80} - 1\\right)^{2} + 0.02 \\left(- x_{81} - 1\\right)^{2} - 0.03 \\left(- x_{82} - 1\\right)^{2} - 0.03 \\left(- x_{85} - 1\\right)^{2} - 0.05 \\left(x_{87} + 1\\right)^{2} - 0.01 \\left(- x_{88} - 1\\right)^{2} + 0.01 \\left(- x_{89} - 1\\right)^{2} - 0.09 \\left(- x_{90} - 1\\right)^{2} - 0.01 \\left(- x_{92} - 1\\right)^{2} + 0.05 \\left(- x_{93} - 1\\right)^{2} + 0.01 \\left(- x_{95} - 1\\right)^{2} - 0.07 \\left(- x_{97} - 1\\right)^{2} - 1\\right)^{2} - 0.01 \\left(- 0.01 \\left(- x_{1} - 1\\right)^{2} - 0.29 \\left(- x_{100} - 1\\right)^{2} + 0.22 \\left(- x_{101} - 1\\right)^{2} - 0.25 \\left(x_{104} + 1\\right)^{2} + 0.01 \\left(- x_{11} - 1\\right)^{2} + 0.09 \\left(- x_{15} - 1\\right)^{2} - 0.41 \\left(- x_{18} - 1\\right)^{2} - 0.08 \\left(x_{2} + 1\\right)^{2} - 0.02 \\left(- x_{20} - 1\\right)^{2} - 0.25 \\left(- x_{21} - 1\\right)^{2} - 0.23 \\left(- x_{22} - 1\\right)^{2} - 0.31 \\left(- x_{23} - 1\\right)^{2} + 0.11 \\left(- x_{25} - 1\\right)^{2} - 0.11 \\left(- x_{27} - 1\\right)^{2} - 0.15 \\left(- x_{28} - 1\\right)^{2} - 0.49 \\left(- x_{30} - 1\\right)^{2} + 0.27 \\left(- x_{31} - 1\\right)^{2} - 0.01 \\left(- x_{32} - 1\\right)^{2} - 0.03 \\left(- x_{33} - 1\\right)^{2} + 0.14 \\left(- x_{34} - 1\\right)^{2} + 0.31 \\left(- x_{35} - 1\\right)^{2} + 0.26 \\left(x_{37} + 1\\right)^{2} + 0.01 \\left(- x_{39} - 1\\right)^{2} - 0.06 \\left(- x_{4} - 1\\right)^{2} + 0.07 \\left(x_{40} + 1\\right)^{2} + 0.02 \\left(- x_{41} - 1\\right)^{2} + 0.17 \\left(x_{5} + 1\\right)^{2} - 0.46 \\left(x_{54} + 1\\right)^{2} + 0.31 \\left(- x_{58} - 1\\right)^{2} - 0.13 \\left(x_{6} + 1\\right)^{2} - 0.08 \\left(x_{64} + 1\\right)^{2} - 0.05 \\left(- x_{65} - 1\\right)^{2} - 0.16 \\left(x_{67} + 1\\right)^{2} + 0.22 \\left(- x_{69} - 1\\right)^{2} + 0.23 \\left(x_{7} + 1\\right)^{2} + 0.32 \\left(- x_{71} - 1\\right)^{2} + 0.07 \\left(x_{72} + 1\\right)^{2} + 0.05 \\left(x_{73} + 1\\right)^{2} + 0.35 \\left(- x_{74} - 1\\right)^{2} + 0.09 \\left(- x_{75} - 1\\right)^{2} - 0.31 \\left(- x_{78} - 1\\right)^{2} + 0.02 \\left(- x_{8} - 1\\right)^{2} + 0.31 \\left(- x_{80} - 1\\right)^{2} + 0.27 \\left(x_{81} + 1\\right)^{2} - 0.37 \\left(- x_{82} - 1\\right)^{2} - 0.17 \\left(- x_{84} - 1\\right)^{2} + 0.22 \\left(x_{85} + 1\\right)^{2} + 0.2 \\left(- x_{87} - 1\\right)^{2} + 0.14 \\left(x_{88} + 1\\right)^{2} - 0.1 \\left(x_{89} + 1\\right)^{2} - 0.1 \\left(x_{90} + 1\\right)^{2} - 0.08 \\left(x_{92} + 1\\right)^{2} - 0.13 \\left(- x_{93} - 1\\right)^{2} - 0.19 \\left(- x_{95} - 1\\right)^{2} + 0.23 \\left(- x_{97} - 1\\right)^{2} + 1\\right)^{2} - 0.27$"
          },
          "metadata": {},
          "execution_count": 14
        }
      ]
    },
    {
      "cell_type": "code",
      "source": [
        "model.plot()\n"
      ],
      "metadata": {
        "colab": {
          "base_uri": "https://localhost:8080/",
          "height": 345
        },
        "id": "yWTyM9sN7lo1",
        "outputId": "788dff0b-057f-421a-81f7-f79ce3fe7844"
      },
      "execution_count": 16,
      "outputs": [
        {
          "output_type": "display_data",
          "data": {
            "text/plain": [
              "<Figure size 500x400 with 322 Axes>"
            ],
            "image/png": "[encoded data removed]"
          },
          "metadata": {}
        }
      ]
    },
    {
      "cell_type": "code",
      "source": [],
      "metadata": {
        "id": "ebzeSHWD8Tuw"
      },
      "execution_count": null,
      "outputs": []
    }
  ]
}